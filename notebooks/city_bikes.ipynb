{
 "cells": [
  {
   "cell_type": "markdown",
   "metadata": {},
   "source": [
    "# CityBikes"
   ]
  },
  {
   "cell_type": "markdown",
   "metadata": {},
   "source": [
    "Send a request to CityBikes for the city of your choice. "
   ]
  },
  {
   "cell_type": "code",
   "execution_count": null,
   "metadata": {},
   "outputs": [],
   "source": [

"response = requests.get(\"http://api.citybik.es/v2/networks\")\n",
"print(response)\n",
"response.json()\n",
"response = requests.get('http://api.citybik.es/v2/networks/ov-fiets')\n"
   ]
  },
  {
   "cell_type": "markdown",
   "metadata": {},
   "source": [
    "Parse through the response to get the details you want for the bike stations in that city (latitude, longitude, number of bikes). "
   ]
  },
  {
   "cell_type": "code",
   "execution_count": null,
   "metadata": {},
   "outputs": [],
   "source": [
"r = response.json()\n",
"q = r['network']\n",
"print(q.keys())\n",
"print(type(q))\n",
"r\n",
"\n",
"list = []\n",
"for station in r[\"network\"][\"stations\"]: \n",
"    list.append(pd.json_normalize(station))\n",
"    \n",
"station_ids = [station[\"id\"] for station in r[\"network\"][\"stations\"]]\n",
"station_names = [station[\"name\"] for station in r[\"network\"][\"stations\"]]\n",
"latitudes = [station[\"latitude\"] for station in r[\"network\"][\"stations\"]]\n",
"longitudes = [station[\"longitude\"] for station in r[\"network\"][\"stations\"]]\n",
"free_bikes = [station[\"free_bikes\"] for station in r[\"network\"][\"stations\"]]\n"

   ]
  },
  {
   "cell_type": "markdown",
   "metadata": {},
   "source": [
    "Put your parsed results into a DataFrame."
   ]
  },
  {
   "cell_type": "code",
   "execution_count": null,
   "metadata": {},
   "outputs": [],
   "source": [
"df = pd.DataFrame({\n",
"    \"Station ID\": station_ids,\n",
"    \"Name\": station_names,\n",
"    \"Latitude\": latitudes,\n",
"    \"Longitude\": longitudes,\n",
"    \"Free Bikes\": free_bikes\n",
"})\n",
"df.to_csv(\"df_city_bikes.csv\")\n"
   ]
  }
 ],
 "metadata": {
  "kernelspec": {
   "display_name": "Python 3",
   "language": "python",
   "name": "python3"
  },
  "language_info": {
   "codemirror_mode": {
    "name": "ipython",
    "version": 3
   },
   "file_extension": ".py",
   "mimetype": "text/x-python",
   "name": "python",
   "nbconvert_exporter": "python",
   "pygments_lexer": "ipython3",
   "version": "3.8.5"
  }
 },
 "nbformat": 4,
 "nbformat_minor": 4
}
